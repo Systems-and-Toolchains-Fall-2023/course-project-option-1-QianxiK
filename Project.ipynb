{
 "cells": [
  {
   "cell_type": "code",
   "execution_count": null,
   "metadata": {},
   "outputs": [],
   "source": [
    "#Task-I"
   ]
  },
  {
   "cell_type": "code",
   "execution_count": 1,
   "metadata": {},
   "outputs": [
    {
     "name": "stderr",
     "output_type": "stream",
     "text": [
      "C:\\Spark\\spark-3.4.1-bin-hadoop3\\python\\pyspark\\sql\\context.py:112: FutureWarning: Deprecated in 3.0.0. Use SparkSession.builder.getOrCreate() instead.\n",
      "  warnings.warn(\n"
     ]
    }
   ],
   "source": [
    "# Uncomment the following lines if you are using Windows!\n",
    "import findspark\n",
    "findspark.init()\n",
    "findspark.find()\n",
    "\n",
    "import pyspark\n",
    "\n",
    "from pyspark.sql import SparkSession\n",
    "from pyspark import SparkContext, SQLContext\n",
    "\n",
    "appName = \"Big Data Analytics\"\n",
    "master = \"local\"\n",
    "\n",
    "# Create Configuration object for Spark.\n",
    "conf = pyspark.SparkConf()\\\n",
    "    .set('spark.driver.host','127.0.0.1')\\\n",
    "    .setAppName(appName)\\\n",
    "    .setMaster(master)\n",
    "\n",
    "# Create Spark Context with the new configurations rather than relying on the default one\n",
    "sc = SparkContext.getOrCreate(conf=conf)\n",
    "\n",
    "# You need to create SQL Context to conduct some database operations like what we will see later.\n",
    "sqlContext = SQLContext(sc)\n",
    "\n",
    "# If you have SQL context, you create the session from the Spark Context\n",
    "spark = sqlContext.sparkSession.builder.getOrCreate()"
   ]
  },
  {
   "cell_type": "code",
   "execution_count": 16,
   "metadata": {},
   "outputs": [],
   "source": [
    "from pyspark.sql.functions import lit, monotonically_increasing_id\n",
    "years = range(15,23)\n",
    "players = []\n",
    "\n",
    "for year in years:\n",
    "    df = spark.read.csv(f\"players_{year}.csv\", header = True, inferSchema = True)\n",
    "    df = df.withColumn('year',lit(year))\n",
    "    df = df.withColumn('unique_id',monotonically_increasing_id())\n",
    "    players.append(df)\n",
    "    \n",
    "merged_df = players[0]\n",
    "for df in players[1:]:\n",
    "    merged_df = merged_df.union(df)\n",
    "\n",
    "# merged_df.show(vertical=True)\n"
   ]
  },
  {
   "cell_type": "code",
   "execution_count": 27,
   "metadata": {},
   "outputs": [],
   "source": [
    "table_name = \"FIFA_Players\"\n",
    "spark.sql(\"CREATE SCHEMA IF NOT EXISTS fifa\")\n",
    "fully_qualified_table_name = \"fifa.\" + table_name\n",
    "\n",
    "db_properties={}\n",
    "db_properties['username']=\"postgres\"\n",
    "db_properties['password']=\"gilgamesh\"\n",
    "db_properties['url']= \"jdbc:postgresql://localhost:5432/postgres\"\n",
    "db_properties['table']=\"fully_qualified_table_name\"\n",
    "db_properties['driver']=\"org.postgresql.Driver\"\n",
    "\n",
    "\n",
    "merged_df.write.format(\"jdbc\")\\\n",
    ".mode(\"overwrite\")\\\n",
    ".option(\"url\", db_properties['url'])\\\n",
    ".option(\"dbtable\", db_properties['table'])\\\n",
    ".option(\"user\", db_properties['username'])\\\n",
    ".option(\"password\", db_properties['password'])\\\n",
    ".option(\"Driver\", db_properties['driver'])\\\n",
    ".save()\n"
   ]
  },
  {
   "cell_type": "code",
   "execution_count": 28,
   "metadata": {},
   "outputs": [],
   "source": [
    "#Task-II"
   ]
  },
  {
   "cell_type": "code",
   "execution_count": 35,
   "metadata": {},
   "outputs": [],
   "source": [
    "from pyspark.sql.functions import col\n",
    "df_2022 = merged_df.filter(merged_df[\"year\"] == 22)\n",
    "def x_clubs(df_2022, x):\n",
    "    contract_counts = df_2022.filter(df_2022[\"club_contract_valid_until\"] == 2023) \\\n",
    "                                  .groupBy(\"club_name\") \\\n",
    "                                  .count() \\\n",
    "                                  .sort(col(\"count\").desc())\n",
    "\n",
    "    top_clubs = contract_counts.limit(x)\n",
    "    return top_clubs"
   ]
  },
  {
   "cell_type": "code",
   "execution_count": 37,
   "metadata": {},
   "outputs": [
    {
     "name": "stdout",
     "output_type": "stream",
     "text": [
      "+--------------------+-----+\n",
      "|           club_name|count|\n",
      "+--------------------+-----+\n",
      "|En Avant de Guingamp|   19|\n",
      "| Club Atlético Lanús|   17|\n",
      "|       Lechia Gdańsk|   17|\n",
      "|            Barnsley|   16|\n",
      "|        Kasimpaşa SK|   16|\n",
      "|        Bengaluru FC|   16|\n",
      "|        FC Barcelona|   15|\n",
      "|  SV Wehen Wiesbaden|   15|\n",
      "|          CA Osasuna|   15|\n",
      "|      Zagłębie Lubin|   15|\n",
      "+--------------------+-----+\n",
      "\n"
     ]
    }
   ],
   "source": [
    "# df_2022.show(vertical=True)\n",
    "top_x_clubs = x_clubs(df_2022, 10)\n",
    "top_x_clubs.show()"
   ]
  },
  {
   "cell_type": "code",
   "execution_count": 42,
   "metadata": {},
   "outputs": [],
   "source": [
    "from pyspark.sql import functions as F\n",
    "from pyspark.sql.window import Window\n",
    "\n",
    "year_counts = merged_df.filter(merged_df[\"age\"] > 27) \\\n",
    "                        .groupby(\"club_name\", \"year\") \\\n",
    "                        .agg(F.count(\"*\").alias(\"count\"))\n",
    "\n",
    "def y_clubs(year_counts, y):\n",
    "\n",
    "    avg_counts = year_counts.groupby(\"club_name\") \\\n",
    "                                      .agg(F.avg(\"count\").alias(\"avg_count\")) \\\n",
    "                                      .orderBy(F.desc(\"avg_count\"))\n",
    "    \n",
    "    avg_counts = avg_counts.withColumn(\"rank\", F.dense_rank().over(Window.orderBy(F.desc(\"avg_count\"))))\n",
    "    top_y = avg_counts.filter(F.col(\"rank\") <= y).drop(\"rank\")\n",
    "    \n",
    "    years_present = year_counts.groupby(\"club_name\").agg(F.countDistinct(\"year\").alias(\"years_present\"))\n",
    "    top_y = top_y.join(years_present, on=\"club_name\", how=\"left\")\n",
    "\n",
    "    top_y = top_y.withColumn(\"final_avg_count\", F.col(\"avg_count\") * \\\n",
    "                             F.when(F.col(\"years_present\") > 0,\\\n",
    "                                            1 / F.col(\"years_present\")).otherwise(1))\n",
    "\n",
    "    return top_y"
   ]
  },
  {
   "cell_type": "code",
   "execution_count": 43,
   "metadata": {},
   "outputs": [
    {
     "name": "stdout",
     "output_type": "stream",
     "text": [
      "+--------------------+---------+-------------+---------------+\n",
      "|           club_name|avg_count|years_present|final_avg_count|\n",
      "+--------------------+---------+-------------+---------------+\n",
      "|                null|   109.25|         null|         109.25|\n",
      "|  Dorados de Sinaloa|     19.0|            1|           19.0|\n",
      "| Matsumoto Yamaga FC|     19.0|            1|           19.0|\n",
      "| Shanghai Shenhua FC|     18.5|            4|          4.625|\n",
      "|          Qingdao FC|     18.0|            2|            9.0|\n",
      "|Club Deportivo Jo...|     17.5|            2|           8.75|\n",
      "+--------------------+---------+-------------+---------------+\n",
      "\n"
     ]
    }
   ],
   "source": [
    "top_y = y_clubs(year_counts, 5)\n",
    "\n",
    "# Show the results\n",
    "top_y.show()"
   ]
  },
  {
   "cell_type": "code",
   "execution_count": 47,
   "metadata": {},
   "outputs": [],
   "source": [
    "from pyspark.sql import functions as F\n",
    "\n",
    "def most_frequent_position(df):\n",
    "\n",
    "    position_counts = df.groupby(\"year\", \"nation_position\") \\\n",
    "                             .agg(F.count(\"*\").alias(\"count\")) \\\n",
    "                             .orderBy(\"year\", F.desc(\"count\"))\n",
    "\n",
    "    window_spec = Window.partitionBy(\"year\").orderBy(F.desc(\"count\"))\n",
    "    ranked_positions = position_counts.withColumn(\"rank\", F.rank().over(window_spec))\n",
    "\n",
    "    most_frequent_positions = ranked_positions.filter(F.col(\"rank\") == 1).select(\"year\", \"nation_position\", \"count\")\n",
    "\n",
    "    return most_frequent_positions"
   ]
  },
  {
   "cell_type": "code",
   "execution_count": 48,
   "metadata": {},
   "outputs": [
    {
     "name": "stdout",
     "output_type": "stream",
     "text": [
      "+----+---------------+-----+\n",
      "|year|nation_position|count|\n",
      "+----+---------------+-----+\n",
      "|  15|           null|15074|\n",
      "|  16|           null|14608|\n",
      "|  17|           null|16515|\n",
      "|  18|           null|16804|\n",
      "|  19|           null|16981|\n",
      "|  20|           null|17356|\n",
      "|  21|           null|17817|\n",
      "|  22|           null|18480|\n",
      "+----+---------------+-----+\n",
      "\n"
     ]
    }
   ],
   "source": [
    "most = most_frequent_position(merged_df)\n",
    "most.show()"
   ]
  }
 ],
 "metadata": {
  "kernelspec": {
   "display_name": "Python 3",
   "language": "python",
   "name": "python3"
  },
  "language_info": {
   "codemirror_mode": {
    "name": "ipython",
    "version": 3
   },
   "file_extension": ".py",
   "mimetype": "text/x-python",
   "name": "python",
   "nbconvert_exporter": "python",
   "pygments_lexer": "ipython3",
   "version": "3.8.3"
  }
 },
 "nbformat": 4,
 "nbformat_minor": 4
}
